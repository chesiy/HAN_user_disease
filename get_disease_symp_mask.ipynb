{
 "cells": [
  {
   "cell_type": "code",
   "execution_count": 1,
   "metadata": {},
   "outputs": [],
   "source": [
    "import json\n",
    "import numpy as np"
   ]
  },
  {
   "cell_type": "code",
   "execution_count": 3,
   "metadata": {},
   "outputs": [
    {
     "data": {
      "text/plain": [
       "array([[0., 0., 0., 0., 0., 0., 0., 0., 1., 1., 1., 0., 0., 0., 0., 0.,\n",
       "        0., 0., 0., 0., 0., 0., 0., 0., 0., 0., 0., 1., 0., 0., 0., 0.,\n",
       "        0., 0., 0., 0., 0., 0.],\n",
       "       [1., 1., 1., 0., 1., 1., 1., 1., 1., 0., 1., 0., 1., 0., 0., 0.,\n",
       "        0., 0., 0., 0., 0., 1., 0., 1., 0., 0., 0., 0., 0., 1., 0., 1.,\n",
       "        1., 1., 1., 1., 0., 1.],\n",
       "       [0., 0., 0., 0., 1., 1., 0., 0., 1., 0., 1., 0., 0., 1., 1., 0.,\n",
       "        0., 0., 0., 1., 1., 0., 0., 0., 1., 0., 1., 1., 0., 0., 0., 0.,\n",
       "        1., 0., 0., 0., 1., 1.],\n",
       "       [0., 0., 0., 0., 1., 1., 0., 1., 1., 0., 1., 1., 0., 1., 1., 0.,\n",
       "        0., 0., 0., 0., 0., 0., 0., 0., 0., 0., 1., 0., 0., 0., 1., 1.,\n",
       "        1., 0., 0., 0., 1., 1.],\n",
       "       [0., 0., 0., 0., 0., 1., 0., 1., 0., 0., 0., 0., 0., 0., 1., 0.,\n",
       "        1., 0., 1., 0., 0., 0., 1., 1., 0., 0., 1., 0., 1., 0., 0., 0.,\n",
       "        1., 0., 0., 0., 1., 1.],\n",
       "       [1., 0., 0., 0., 0., 1., 0., 0., 0., 0., 0., 0., 0., 0., 0., 0.,\n",
       "        0., 1., 0., 0., 0., 0., 0., 0., 0., 0., 0., 0., 1., 0., 0., 0.,\n",
       "        0., 0., 0., 0., 0., 0.],\n",
       "       [1., 1., 0., 1., 0., 0., 0., 0., 0., 0., 1., 0., 0., 0., 1., 1.,\n",
       "        0., 0., 1., 1., 0., 0., 0., 0., 0., 1., 1., 0., 0., 0., 1., 1.,\n",
       "        1., 0., 0., 0., 0., 1.]])"
      ]
     },
     "execution_count": 3,
     "metadata": {},
     "output_type": "execute_result"
    }
   ],
   "source": [
    "kg_info_dir = \"./parsed_kg_info.json\"\n",
    "with open(kg_info_dir, 'r', encoding='utf-8') as f:\n",
    "    kg_content = json.load(f)\n",
    "id2disease = kg_content['id2disease']\n",
    "kg_id2symp = kg_content['id2symp']\n",
    "symp2kg_id = kg_content['symp2id']\n",
    "kg_symp_id2disease_id = kg_content['symp_id2disease_ids']\n",
    "\n",
    "# Caution! order of symptoms in model inference is different from KG\n",
    "model_id2symp = ['Anxious_Mood',\n",
    " 'Autonomic_symptoms',\n",
    " 'Cardiovascular_symptoms',\n",
    " 'Catatonic_behavior',\n",
    " 'Decreased_energy_tiredness_fatigue',\n",
    " 'Depressed_Mood',\n",
    " 'Gastrointestinal_symptoms',\n",
    " 'Genitourinary_symptoms',\n",
    " 'Hyperactivity_agitation',\n",
    " 'Impulsivity',\n",
    " 'Inattention',\n",
    " 'Indecisiveness',\n",
    " 'Respiratory_symptoms',\n",
    " 'Suicidal_ideas',\n",
    " 'Worthlessness_and_guilty',\n",
    " 'avoidance_of_stimuli',\n",
    " 'compensatory_behaviors_to_prevent_weight_gain',\n",
    " 'compulsions',\n",
    " 'diminished_emotional_expression',\n",
    " 'do_things_easily_get_painful_consequences',\n",
    " 'drastical_shift_in_mood_and_energy',\n",
    " 'fear_about_social_situations',\n",
    " 'fear_of_gaining_weight',\n",
    " 'fears_of_being_negatively_evaluated',\n",
    " 'flight_of_ideas',\n",
    " 'intrusion_symptoms',\n",
    " 'loss_of_interest_or_motivation',\n",
    " 'more_talktive',\n",
    " 'obsession',\n",
    " 'panic_fear',\n",
    " 'pessimism',\n",
    " 'poor_memory',\n",
    " 'sleep_disturbance',\n",
    " 'somatic_muscle',\n",
    " 'somatic_symptoms_others',\n",
    " 'somatic_symptoms_sensory',\n",
    " 'weight_and_appetite_change',\n",
    " 'Anger_Irritability']\n",
    "\n",
    "disease_symp_mask = np.zeros((len(id2disease), len(model_id2symp)))\n",
    "for model_id, symp in enumerate(model_id2symp):\n",
    "    disease_ids = kg_symp_id2disease_id[symp2kg_id[symp]]\n",
    "    for did in disease_ids:\n",
    "        disease_symp_mask[did, model_id] = 1\n",
    "disease_symp_mask"
   ]
  },
  {
   "cell_type": "code",
   "execution_count": 4,
   "metadata": {},
   "outputs": [
    {
     "data": {
      "text/plain": [
       "['adhd',\n",
       " 'anxiety',\n",
       " 'bipolar_disorder',\n",
       " 'depression',\n",
       " 'eating_disorder',\n",
       " 'ocd',\n",
       " 'ptsd']"
      ]
     },
     "execution_count": 4,
     "metadata": {},
     "output_type": "execute_result"
    }
   ],
   "source": [
    "id2disease"
   ]
  },
  {
   "cell_type": "code",
   "execution_count": 5,
   "metadata": {},
   "outputs": [],
   "source": [
    "np.save(\"disease_symp_mask.npy\", disease_symp_mask)"
   ]
  },
  {
   "cell_type": "code",
   "execution_count": null,
   "metadata": {},
   "outputs": [],
   "source": []
  }
 ],
 "metadata": {
  "interpreter": {
   "hash": "b5db102010a3dd171c91efb40b5cba45b5815823043b29a2c64a30f9c107a019"
  },
  "kernelspec": {
   "display_name": "Python 3.7.11 ('py37')",
   "language": "python",
   "name": "python3"
  },
  "language_info": {
   "codemirror_mode": {
    "name": "ipython",
    "version": 3
   },
   "file_extension": ".py",
   "mimetype": "text/x-python",
   "name": "python",
   "nbconvert_exporter": "python",
   "pygments_lexer": "ipython3",
   "version": "3.7.11"
  },
  "orig_nbformat": 4
 },
 "nbformat": 4,
 "nbformat_minor": 2
}
